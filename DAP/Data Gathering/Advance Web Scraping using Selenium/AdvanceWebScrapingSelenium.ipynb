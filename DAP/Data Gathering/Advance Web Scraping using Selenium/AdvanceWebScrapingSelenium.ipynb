{
 "cells": [
  {
   "attachments": {},
   "cell_type": "markdown",
   "metadata": {},
   "source": [
    "# *Seleniumm*"
   ]
  },
  {
   "attachments": {},
   "cell_type": "markdown",
   "metadata": {},
   "source": [
    "*Selenium is a suite of tools for automating web browsers. It is primarily used for testing web application but also used for Web Scraping,Data extraction & other task that require intyeraction with a web browser programmatically*"
   ]
  },
  {
   "attachments": {},
   "cell_type": "markdown",
   "metadata": {},
   "source": [
    "*With Selenium, we can write code in a variety of programming language, including python, Java, C#, and others, to control a web browser and interact with a web page. We can use Selenium to simulate user interactions. Such as clicking buttons, filling out forms & navigating between pages, to test how a web application behaves*"
   ]
  },
  {
   "attachments": {},
   "cell_type": "markdown",
   "metadata": {},
   "source": [
    "*In addition to its testing capabilities, Selenium can also be used for web scraping, where you can extract information from websites & save it for further analysis or use. It is popular choice for web scraping because it can interact with dynamic websites*"
   ]
  },
  {
   "attachments": {},
   "cell_type": "markdown",
   "metadata": {},
   "source": [
    "#### XPath\n",
    "XPath is a Language used to navigate XML & HTML document in order to locate elements within those documents. In Selenium it is used to find elements on a web page, such as links buttons, text box etc, So they can be interacted with Xpath expressions can be used to select elements based on their tag name , attributes or position within the document.\n",
    "\n",
    "- handling scrolling\n",
    "- saving html \n"
   ]
  },
  {
   "cell_type": "code",
   "execution_count": 2,
   "metadata": {},
   "outputs": [],
   "source": [
    "# !pip install selenium "
   ]
  },
  {
   "cell_type": "code",
   "execution_count": null,
   "metadata": {},
   "outputs": [],
   "source": [
    "# open google\n",
    "# search campusx\n",
    "# learnwithcampus\n",
    "# course page "
   ]
  },
  {
   "cell_type": "code",
   "execution_count": 18,
   "metadata": {},
   "outputs": [],
   "source": [
    "from selenium import webdriver\n",
    "from selenium.webdriver.chrome.service import Service\n",
    "import time \n",
    "from selenium.webdriver.common.by import By \n",
    "from selenium.webdriver.common.keys import  Keys"
   ]
  },
  {
   "cell_type": "code",
   "execution_count": 24,
   "metadata": {},
   "outputs": [],
   "source": [
    "s=Service(\"C:/Users/hp/Desktop/chromedriver.exe\")\n",
    "driver=webdriver.Chrome(service=s)\n",
    "driver.get('http://www.google.com')\n",
    "time.sleep(2)\n",
    "\n",
    "# fetch the search input box using xpath \n",
    " \n",
    "userinput=driver.find_element(by=By.XPATH,value='/html/body/div[1]/div[3]/form/div[1]/div[1]/div[1]/div/div[2]/input')\n",
    "userinput.send_keys('Campusx')\n",
    "time.sleep(1)\n",
    "\n",
    "userinput.send_keys(Keys.ENTER)\n",
    "time.sleep(1)\n",
    "link =driver.find_element(by=By.XPATH,value='//*[@id=\"rso\"]/div[2]/div/div/div[1]/div/div/div[1]/div/a')\n",
    "link.click()\n",
    "\n",
    "time.sleep(1)\n",
    "link2 = driver.find_element(by=By.XPATH,value='/html/body/div[1]/header/section[2]/a[4]')\n",
    "link2.click()"
   ]
  },
  {
   "cell_type": "code",
   "execution_count": null,
   "metadata": {},
   "outputs": [],
   "source": []
  }
 ],
 "metadata": {
  "kernelspec": {
   "display_name": "base",
   "language": "python",
   "name": "python3"
  },
  "language_info": {
   "codemirror_mode": {
    "name": "ipython",
    "version": 3
   },
   "file_extension": ".py",
   "mimetype": "text/x-python",
   "name": "python",
   "nbconvert_exporter": "python",
   "pygments_lexer": "ipython3",
   "version": "3.9.13"
  },
  "orig_nbformat": 4
 },
 "nbformat": 4,
 "nbformat_minor": 2
}
